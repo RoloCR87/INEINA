{
  "nbformat": 4,
  "nbformat_minor": 0,
  "metadata": {
    "colab": {
      "name": "Análisis_datos_COVID.ipynb",
      "provenance": [],
      "include_colab_link": true
    },
    "kernelspec": {
      "name": "python3",
      "display_name": "Python 3"
    },
    "language_info": {
      "name": "python"
    }
  },
  "cells": [
    {
      "cell_type": "markdown",
      "metadata": {
        "id": "view-in-github",
        "colab_type": "text"
      },
      "source": [
        "<a href=\"https://colab.research.google.com/github/RoloCR87/INEINA/blob/main/An%C3%A1lisis_datos_COVID.ipynb\" target=\"_parent\"><img src=\"https://colab.research.google.com/assets/colab-badge.svg\" alt=\"Open In Colab\"/></a>"
      ]
    },
    {
      "cell_type": "code",
      "execution_count": null,
      "metadata": {
        "id": "yvuLLqcC0PFX"
      },
      "outputs": [],
      "source": [
        "import pandas as pd\n",
        "import numpy as np\n",
        "import matplotlib.pyplot as plt\n",
        "import seaborn as sns"
      ]
    },
    {
      "cell_type": "code",
      "source": [
        "datos = pd.read_csv(\"https://raw.githubusercontent.com/RoloCR87/INEINA/main/Cuestionario_COVID.csv?token=GHSAT0AAAAAABVFQIUHL3XJK2JTNMERRQ2YYVDZSUA\", sep = \",\")"
      ],
      "metadata": {
        "id": "v_3nYh-G0oj5"
      },
      "execution_count": null,
      "outputs": []
    },
    {
      "cell_type": "code",
      "source": [
        "datos"
      ],
      "metadata": {
        "colab": {
          "base_uri": "https://localhost:8080/",
          "height": 1000
        },
        "id": "RwcmhoNN121x",
        "outputId": "c58aef9b-af2d-4ba8-a61b-59ce7a625144"
      },
      "execution_count": null,
      "outputs": [
        {
          "output_type": "execute_result",
          "data": {
            "text/plain": [
              "         Marca temporal Acepto que mi hijo/hija participe en esta consulta  \\\n",
              "0    8/24/2020 14:16:14                                                 Si   \n",
              "1    8/24/2020 19:24:57                                                 Si   \n",
              "2    8/24/2020 21:21:53                                                 Si   \n",
              "3    8/26/2020 17:52:36                                                 Si   \n",
              "4    8/26/2020 18:25:19                                                 Si   \n",
              "..                  ...                                                ...   \n",
              "138   9/7/2020 18:55:49                                                 Si   \n",
              "139   9/8/2020 21:05:56                                                 Si   \n",
              "140  9/14/2020 21:27:47                                                 Si   \n",
              "141  9/15/2020 10:09:09                                                 Si   \n",
              "142  9/18/2020 18:44:31                                                 Si   \n",
              "\n",
              "     Sexo  Edad Ceducativo Neducativo   Provincia  \\\n",
              "0    Niño  11.0    Público     Quinto    Alajuela   \n",
              "1    Niña  11.0    Público     Quinto     Heredia   \n",
              "2    Niña  12.0    Privado      Sexto    Alajuela   \n",
              "3    Niña  12.0    Público      Sexto     Heredia   \n",
              "4    Niña  10.0    Privado     Cuarto    San José   \n",
              "..    ...   ...        ...        ...         ...   \n",
              "138  Niña  12.0    Público        NaN     Cartago   \n",
              "139  Niño  11.0    Público     Quinto     Cartago   \n",
              "140  Niño  11.0    Público     Quinto    San José   \n",
              "141  Niña  12.0    Privado      Sexto  Guanacaste   \n",
              "142  Niño  11.0    Público     Quinto    San José   \n",
              "\n",
              "    1.\\t¿Cuántas personas viven en tu casa incluyéndote a vos?  \\\n",
              "0                                                    3           \n",
              "1                                                    4           \n",
              "2                                                    4           \n",
              "3                                                    5           \n",
              "4                                                    4           \n",
              "..                                                 ...           \n",
              "138                                                  4           \n",
              "139                                                  3           \n",
              "140                                                  4           \n",
              "141                                                  4           \n",
              "142                                                  4           \n",
              "\n",
              "    2.\\t¿Dispone tu casa de algún espacio donde puedas jugar?  \\\n",
              "0                                                   Sí          \n",
              "1                                                   Sí          \n",
              "2                                                   Sí          \n",
              "3                                                   Sí          \n",
              "4                                                   Sí          \n",
              "..                                                 ...          \n",
              "138                                                 No          \n",
              "139                                                 Sí          \n",
              "140                                                 Sí          \n",
              "141                                                 Sí          \n",
              "142                                                 Sí          \n",
              "\n",
              "    3.\\t¿Cuáles han sido tus mayores preocupaciones durante la pandemia del COVID-19?  \\\n",
              "0                                          Las tareas                                   \n",
              "1                           Que dure mucho tiempo más                                   \n",
              "2                                    Clases virtuales                                   \n",
              "3                           Contagiarme ,no graduarme                                   \n",
              "4    Que muchas personas mueran y que pase más de d...                                  \n",
              "..                                                 ...                                  \n",
              "138                                        Contagiarse                                  \n",
              "139  Que algún miembro de mi familia se contagie, e...                                  \n",
              "140        Que por falta del trabajo llegue él hambre                                   \n",
              "141  No reunirme con mis compañeros cuanto salgo de...                                  \n",
              "142        Que por falta del trabajo llegue él hambre                                   \n",
              "\n",
              "    4.\\tEn el tiempo que has pasado en tu casa durante la pandemia del COVID-19, ¿qué sentimientos o emociones has sentido?. Menciona tres de ellos   \\\n",
              "0                           Felicidad,enojos y estrés                                                                                                  \n",
              "1              triste, aburrida y algunas veces feliz                                                                                                  \n",
              "2                         Felicidad, diversión, enojo                                                                                                  \n",
              "3                              Asustada, temor ,triste                                                                                                 \n",
              "4                  Felicidad, tristeza y aburrimiento.                                                                                                 \n",
              "..                                                 ...                                                                                                 \n",
              "138                 Estresada, aburrida, de mal humor.                                                                                                 \n",
              "139                               Preocupación, triste                                                                                                 \n",
              "140                      Alegría, miedo, preocupación                                                                                                  \n",
              "141                 Aburrimiento, tristeza y ansiedad                                                                                                  \n",
              "142                      Alegría, miedo, preocupación                                                                                                  \n",
              "\n",
              "    5.\\tDurante la pandemia, ¿en que momentos o situaciones te has sentido muy bien?  \\\n",
              "0                              Cuando son días libres                                  \n",
              "1    Cuando vi a mis abuelitos después de mucho tie...                                 \n",
              "2                                   Cuando voy afuera                                  \n",
              "3              Poder salir , hablar con mis compañeras                                 \n",
              "4    Porque toda mi familia está sana y cuando volv...                                 \n",
              "..                                                 ...                                 \n",
              "138         Cuando puedo salir de paseo a lagún lugar.                                 \n",
              "139                Casi todos los días, cuando siembro                                 \n",
              "140                                      Cuando juego                                  \n",
              "141                            Cuando salgo de mi casa                                 \n",
              "142                                      Cuando juego                                  \n",
              "\n",
              "    6.\\tDurante esta pandemia, ¿en que momentos o situaciones te has sentido triste o desanimado?  \\\n",
              "0                                 Cuando estoy cansado                                              \n",
              "1    Cuando paso mucho tiempo sin ver o hablar con ...                                              \n",
              "2    Cuando mi mamá me regaña por no hacer los trab...                                              \n",
              "3                       No poder regresar a la escuela                                              \n",
              "4            Ver las noticias y que me perdí un viaje.                                              \n",
              "..                                                 ...                                              \n",
              "138                                  En ningún momento                                              \n",
              "139                Cuando escucho que mueren personas.                                              \n",
              "140                         Cuando extraño mi escuela                                               \n",
              "141                            Cuando me mandan tareas                                              \n",
              "142                         Cuando extraño mi escuela                                               \n",
              "\n",
              "    7.\\tMenciona tres actividades que has realizado durante esta pandemia y que te hayan hecho sentirte feliz.  \\\n",
              "0    Andar en bicicleta ,jugar bola y tener tiempo ...                                                           \n",
              "1    Mi cumpliañero, el cumpleaños de mi hermano y ...                                                           \n",
              "2                    Tye-dye , video llamadas y pintar                                                           \n",
              "3    Compartir con mis hermanos , ver películas,sal...                                                           \n",
              "4    Cocinar con mi mamá, poder estar en la casa pa...                                                           \n",
              "..                                                 ...                                                           \n",
              "138                             Ir a la playa nada mas                                                           \n",
              "139  Jugar bola en mi patio, sembrar hortalizas, ba...                                                           \n",
              "140                             Jugar, comer y dormir                                                            \n",
              "141            Video llamadas, dibujar y ver peliculas                                                           \n",
              "142                             Jugar, comer y dormir                                                            \n",
              "\n",
              "    8.\\t¿Qué otro tipo de actividades, además de las mencionadas anteriormente, has realizado durante este tiempo en casa?  \\\n",
              "0                      Jugar play ,comer y estar sano                                                                        \n",
              "1                              Tareas, clases y juegos                                                                       \n",
              "2                                    Pintar mi cuarto                                                                        \n",
              "3                            Ver tv , leer ,jugar play                                                                       \n",
              "4    Ver películas, series, jugar juegos de mesa, h...                                                                       \n",
              "..                                                 ...                                                                       \n",
              "138                                   Nada solo tareas                                                                       \n",
              "139                          Entrenar, dibujar, pintar                                                                       \n",
              "140       Estudiar y ayudar en los deberes de la casa                                                                        \n",
              "141              Pintar y jugar juegos con el celular                                                                        \n",
              "142       Estudiar y ayudar en los deberes de la casa                                                                        \n",
              "\n",
              "    9.\\tSi pudieras pedir un deseo en este momento ¿cuál sería?  \n",
              "0                                       Set-up gaming            \n",
              "1                              Que termine la pandemia           \n",
              "2            Que mi mamá no me moleste todo el tiempo            \n",
              "3          Volver a la escuela y visitar a mis abuelos           \n",
              "4                 Que encuentren la cura para el Covid           \n",
              "..                                                 ...           \n",
              "138                                   Poder ir al cole           \n",
              "139  Que todo esto acabe para poder volver a la esc...           \n",
              "140                         Que termine esta pandemia            \n",
              "141          Que la  cuarentena nunca hubiera existido           \n",
              "142                         Que termine esta pandemia            \n",
              "\n",
              "[143 rows x 16 columns]"
            ],
            "text/html": [
              "\n",
              "  <div id=\"df-458b0566-76ce-4770-8bc9-cfcbc321221e\">\n",
              "    <div class=\"colab-df-container\">\n",
              "      <div>\n",
              "<style scoped>\n",
              "    .dataframe tbody tr th:only-of-type {\n",
              "        vertical-align: middle;\n",
              "    }\n",
              "\n",
              "    .dataframe tbody tr th {\n",
              "        vertical-align: top;\n",
              "    }\n",
              "\n",
              "    .dataframe thead th {\n",
              "        text-align: right;\n",
              "    }\n",
              "</style>\n",
              "<table border=\"1\" class=\"dataframe\">\n",
              "  <thead>\n",
              "    <tr style=\"text-align: right;\">\n",
              "      <th></th>\n",
              "      <th>Marca temporal</th>\n",
              "      <th>Acepto que mi hijo/hija participe en esta consulta</th>\n",
              "      <th>Sexo</th>\n",
              "      <th>Edad</th>\n",
              "      <th>Ceducativo</th>\n",
              "      <th>Neducativo</th>\n",
              "      <th>Provincia</th>\n",
              "      <th>1.\\t¿Cuántas personas viven en tu casa incluyéndote a vos?</th>\n",
              "      <th>2.\\t¿Dispone tu casa de algún espacio donde puedas jugar?</th>\n",
              "      <th>3.\\t¿Cuáles han sido tus mayores preocupaciones durante la pandemia del COVID-19?</th>\n",
              "      <th>4.\\tEn el tiempo que has pasado en tu casa durante la pandemia del COVID-19, ¿qué sentimientos o emociones has sentido?. Menciona tres de ellos</th>\n",
              "      <th>5.\\tDurante la pandemia, ¿en que momentos o situaciones te has sentido muy bien?</th>\n",
              "      <th>6.\\tDurante esta pandemia, ¿en que momentos o situaciones te has sentido triste o desanimado?</th>\n",
              "      <th>7.\\tMenciona tres actividades que has realizado durante esta pandemia y que te hayan hecho sentirte feliz.</th>\n",
              "      <th>8.\\t¿Qué otro tipo de actividades, además de las mencionadas anteriormente, has realizado durante este tiempo en casa?</th>\n",
              "      <th>9.\\tSi pudieras pedir un deseo en este momento ¿cuál sería?</th>\n",
              "    </tr>\n",
              "  </thead>\n",
              "  <tbody>\n",
              "    <tr>\n",
              "      <th>0</th>\n",
              "      <td>8/24/2020 14:16:14</td>\n",
              "      <td>Si</td>\n",
              "      <td>Niño</td>\n",
              "      <td>11.0</td>\n",
              "      <td>Público</td>\n",
              "      <td>Quinto</td>\n",
              "      <td>Alajuela</td>\n",
              "      <td>3</td>\n",
              "      <td>Sí</td>\n",
              "      <td>Las tareas</td>\n",
              "      <td>Felicidad,enojos y estrés</td>\n",
              "      <td>Cuando son días libres</td>\n",
              "      <td>Cuando estoy cansado</td>\n",
              "      <td>Andar en bicicleta ,jugar bola y tener tiempo ...</td>\n",
              "      <td>Jugar play ,comer y estar sano</td>\n",
              "      <td>Set-up gaming</td>\n",
              "    </tr>\n",
              "    <tr>\n",
              "      <th>1</th>\n",
              "      <td>8/24/2020 19:24:57</td>\n",
              "      <td>Si</td>\n",
              "      <td>Niña</td>\n",
              "      <td>11.0</td>\n",
              "      <td>Público</td>\n",
              "      <td>Quinto</td>\n",
              "      <td>Heredia</td>\n",
              "      <td>4</td>\n",
              "      <td>Sí</td>\n",
              "      <td>Que dure mucho tiempo más</td>\n",
              "      <td>triste, aburrida y algunas veces feliz</td>\n",
              "      <td>Cuando vi a mis abuelitos después de mucho tie...</td>\n",
              "      <td>Cuando paso mucho tiempo sin ver o hablar con ...</td>\n",
              "      <td>Mi cumpliañero, el cumpleaños de mi hermano y ...</td>\n",
              "      <td>Tareas, clases y juegos</td>\n",
              "      <td>Que termine la pandemia</td>\n",
              "    </tr>\n",
              "    <tr>\n",
              "      <th>2</th>\n",
              "      <td>8/24/2020 21:21:53</td>\n",
              "      <td>Si</td>\n",
              "      <td>Niña</td>\n",
              "      <td>12.0</td>\n",
              "      <td>Privado</td>\n",
              "      <td>Sexto</td>\n",
              "      <td>Alajuela</td>\n",
              "      <td>4</td>\n",
              "      <td>Sí</td>\n",
              "      <td>Clases virtuales</td>\n",
              "      <td>Felicidad, diversión, enojo</td>\n",
              "      <td>Cuando voy afuera</td>\n",
              "      <td>Cuando mi mamá me regaña por no hacer los trab...</td>\n",
              "      <td>Tye-dye , video llamadas y pintar</td>\n",
              "      <td>Pintar mi cuarto</td>\n",
              "      <td>Que mi mamá no me moleste todo el tiempo</td>\n",
              "    </tr>\n",
              "    <tr>\n",
              "      <th>3</th>\n",
              "      <td>8/26/2020 17:52:36</td>\n",
              "      <td>Si</td>\n",
              "      <td>Niña</td>\n",
              "      <td>12.0</td>\n",
              "      <td>Público</td>\n",
              "      <td>Sexto</td>\n",
              "      <td>Heredia</td>\n",
              "      <td>5</td>\n",
              "      <td>Sí</td>\n",
              "      <td>Contagiarme ,no graduarme</td>\n",
              "      <td>Asustada, temor ,triste</td>\n",
              "      <td>Poder salir , hablar con mis compañeras</td>\n",
              "      <td>No poder regresar a la escuela</td>\n",
              "      <td>Compartir con mis hermanos , ver películas,sal...</td>\n",
              "      <td>Ver tv , leer ,jugar play</td>\n",
              "      <td>Volver a la escuela y visitar a mis abuelos</td>\n",
              "    </tr>\n",
              "    <tr>\n",
              "      <th>4</th>\n",
              "      <td>8/26/2020 18:25:19</td>\n",
              "      <td>Si</td>\n",
              "      <td>Niña</td>\n",
              "      <td>10.0</td>\n",
              "      <td>Privado</td>\n",
              "      <td>Cuarto</td>\n",
              "      <td>San José</td>\n",
              "      <td>4</td>\n",
              "      <td>Sí</td>\n",
              "      <td>Que muchas personas mueran y que pase más de d...</td>\n",
              "      <td>Felicidad, tristeza y aburrimiento.</td>\n",
              "      <td>Porque toda mi familia está sana y cuando volv...</td>\n",
              "      <td>Ver las noticias y que me perdí un viaje.</td>\n",
              "      <td>Cocinar con mi mamá, poder estar en la casa pa...</td>\n",
              "      <td>Ver películas, series, jugar juegos de mesa, h...</td>\n",
              "      <td>Que encuentren la cura para el Covid</td>\n",
              "    </tr>\n",
              "    <tr>\n",
              "      <th>...</th>\n",
              "      <td>...</td>\n",
              "      <td>...</td>\n",
              "      <td>...</td>\n",
              "      <td>...</td>\n",
              "      <td>...</td>\n",
              "      <td>...</td>\n",
              "      <td>...</td>\n",
              "      <td>...</td>\n",
              "      <td>...</td>\n",
              "      <td>...</td>\n",
              "      <td>...</td>\n",
              "      <td>...</td>\n",
              "      <td>...</td>\n",
              "      <td>...</td>\n",
              "      <td>...</td>\n",
              "      <td>...</td>\n",
              "    </tr>\n",
              "    <tr>\n",
              "      <th>138</th>\n",
              "      <td>9/7/2020 18:55:49</td>\n",
              "      <td>Si</td>\n",
              "      <td>Niña</td>\n",
              "      <td>12.0</td>\n",
              "      <td>Público</td>\n",
              "      <td>NaN</td>\n",
              "      <td>Cartago</td>\n",
              "      <td>4</td>\n",
              "      <td>No</td>\n",
              "      <td>Contagiarse</td>\n",
              "      <td>Estresada, aburrida, de mal humor.</td>\n",
              "      <td>Cuando puedo salir de paseo a lagún lugar.</td>\n",
              "      <td>En ningún momento</td>\n",
              "      <td>Ir a la playa nada mas</td>\n",
              "      <td>Nada solo tareas</td>\n",
              "      <td>Poder ir al cole</td>\n",
              "    </tr>\n",
              "    <tr>\n",
              "      <th>139</th>\n",
              "      <td>9/8/2020 21:05:56</td>\n",
              "      <td>Si</td>\n",
              "      <td>Niño</td>\n",
              "      <td>11.0</td>\n",
              "      <td>Público</td>\n",
              "      <td>Quinto</td>\n",
              "      <td>Cartago</td>\n",
              "      <td>3</td>\n",
              "      <td>Sí</td>\n",
              "      <td>Que algún miembro de mi familia se contagie, e...</td>\n",
              "      <td>Preocupación, triste</td>\n",
              "      <td>Casi todos los días, cuando siembro</td>\n",
              "      <td>Cuando escucho que mueren personas.</td>\n",
              "      <td>Jugar bola en mi patio, sembrar hortalizas, ba...</td>\n",
              "      <td>Entrenar, dibujar, pintar</td>\n",
              "      <td>Que todo esto acabe para poder volver a la esc...</td>\n",
              "    </tr>\n",
              "    <tr>\n",
              "      <th>140</th>\n",
              "      <td>9/14/2020 21:27:47</td>\n",
              "      <td>Si</td>\n",
              "      <td>Niño</td>\n",
              "      <td>11.0</td>\n",
              "      <td>Público</td>\n",
              "      <td>Quinto</td>\n",
              "      <td>San José</td>\n",
              "      <td>4</td>\n",
              "      <td>Sí</td>\n",
              "      <td>Que por falta del trabajo llegue él hambre</td>\n",
              "      <td>Alegría, miedo, preocupación</td>\n",
              "      <td>Cuando juego</td>\n",
              "      <td>Cuando extraño mi escuela</td>\n",
              "      <td>Jugar, comer y dormir</td>\n",
              "      <td>Estudiar y ayudar en los deberes de la casa</td>\n",
              "      <td>Que termine esta pandemia</td>\n",
              "    </tr>\n",
              "    <tr>\n",
              "      <th>141</th>\n",
              "      <td>9/15/2020 10:09:09</td>\n",
              "      <td>Si</td>\n",
              "      <td>Niña</td>\n",
              "      <td>12.0</td>\n",
              "      <td>Privado</td>\n",
              "      <td>Sexto</td>\n",
              "      <td>Guanacaste</td>\n",
              "      <td>4</td>\n",
              "      <td>Sí</td>\n",
              "      <td>No reunirme con mis compañeros cuanto salgo de...</td>\n",
              "      <td>Aburrimiento, tristeza y ansiedad</td>\n",
              "      <td>Cuando salgo de mi casa</td>\n",
              "      <td>Cuando me mandan tareas</td>\n",
              "      <td>Video llamadas, dibujar y ver peliculas</td>\n",
              "      <td>Pintar y jugar juegos con el celular</td>\n",
              "      <td>Que la  cuarentena nunca hubiera existido</td>\n",
              "    </tr>\n",
              "    <tr>\n",
              "      <th>142</th>\n",
              "      <td>9/18/2020 18:44:31</td>\n",
              "      <td>Si</td>\n",
              "      <td>Niño</td>\n",
              "      <td>11.0</td>\n",
              "      <td>Público</td>\n",
              "      <td>Quinto</td>\n",
              "      <td>San José</td>\n",
              "      <td>4</td>\n",
              "      <td>Sí</td>\n",
              "      <td>Que por falta del trabajo llegue él hambre</td>\n",
              "      <td>Alegría, miedo, preocupación</td>\n",
              "      <td>Cuando juego</td>\n",
              "      <td>Cuando extraño mi escuela</td>\n",
              "      <td>Jugar, comer y dormir</td>\n",
              "      <td>Estudiar y ayudar en los deberes de la casa</td>\n",
              "      <td>Que termine esta pandemia</td>\n",
              "    </tr>\n",
              "  </tbody>\n",
              "</table>\n",
              "<p>143 rows × 16 columns</p>\n",
              "</div>\n",
              "      <button class=\"colab-df-convert\" onclick=\"convertToInteractive('df-458b0566-76ce-4770-8bc9-cfcbc321221e')\"\n",
              "              title=\"Convert this dataframe to an interactive table.\"\n",
              "              style=\"display:none;\">\n",
              "        \n",
              "  <svg xmlns=\"http://www.w3.org/2000/svg\" height=\"24px\"viewBox=\"0 0 24 24\"\n",
              "       width=\"24px\">\n",
              "    <path d=\"M0 0h24v24H0V0z\" fill=\"none\"/>\n",
              "    <path d=\"M18.56 5.44l.94 2.06.94-2.06 2.06-.94-2.06-.94-.94-2.06-.94 2.06-2.06.94zm-11 1L8.5 8.5l.94-2.06 2.06-.94-2.06-.94L8.5 2.5l-.94 2.06-2.06.94zm10 10l.94 2.06.94-2.06 2.06-.94-2.06-.94-.94-2.06-.94 2.06-2.06.94z\"/><path d=\"M17.41 7.96l-1.37-1.37c-.4-.4-.92-.59-1.43-.59-.52 0-1.04.2-1.43.59L10.3 9.45l-7.72 7.72c-.78.78-.78 2.05 0 2.83L4 21.41c.39.39.9.59 1.41.59.51 0 1.02-.2 1.41-.59l7.78-7.78 2.81-2.81c.8-.78.8-2.07 0-2.86zM5.41 20L4 18.59l7.72-7.72 1.47 1.35L5.41 20z\"/>\n",
              "  </svg>\n",
              "      </button>\n",
              "      \n",
              "  <style>\n",
              "    .colab-df-container {\n",
              "      display:flex;\n",
              "      flex-wrap:wrap;\n",
              "      gap: 12px;\n",
              "    }\n",
              "\n",
              "    .colab-df-convert {\n",
              "      background-color: #E8F0FE;\n",
              "      border: none;\n",
              "      border-radius: 50%;\n",
              "      cursor: pointer;\n",
              "      display: none;\n",
              "      fill: #1967D2;\n",
              "      height: 32px;\n",
              "      padding: 0 0 0 0;\n",
              "      width: 32px;\n",
              "    }\n",
              "\n",
              "    .colab-df-convert:hover {\n",
              "      background-color: #E2EBFA;\n",
              "      box-shadow: 0px 1px 2px rgba(60, 64, 67, 0.3), 0px 1px 3px 1px rgba(60, 64, 67, 0.15);\n",
              "      fill: #174EA6;\n",
              "    }\n",
              "\n",
              "    [theme=dark] .colab-df-convert {\n",
              "      background-color: #3B4455;\n",
              "      fill: #D2E3FC;\n",
              "    }\n",
              "\n",
              "    [theme=dark] .colab-df-convert:hover {\n",
              "      background-color: #434B5C;\n",
              "      box-shadow: 0px 1px 3px 1px rgba(0, 0, 0, 0.15);\n",
              "      filter: drop-shadow(0px 1px 2px rgba(0, 0, 0, 0.3));\n",
              "      fill: #FFFFFF;\n",
              "    }\n",
              "  </style>\n",
              "\n",
              "      <script>\n",
              "        const buttonEl =\n",
              "          document.querySelector('#df-458b0566-76ce-4770-8bc9-cfcbc321221e button.colab-df-convert');\n",
              "        buttonEl.style.display =\n",
              "          google.colab.kernel.accessAllowed ? 'block' : 'none';\n",
              "\n",
              "        async function convertToInteractive(key) {\n",
              "          const element = document.querySelector('#df-458b0566-76ce-4770-8bc9-cfcbc321221e');\n",
              "          const dataTable =\n",
              "            await google.colab.kernel.invokeFunction('convertToInteractive',\n",
              "                                                     [key], {});\n",
              "          if (!dataTable) return;\n",
              "\n",
              "          const docLinkHtml = 'Like what you see? Visit the ' +\n",
              "            '<a target=\"_blank\" href=https://colab.research.google.com/notebooks/data_table.ipynb>data table notebook</a>'\n",
              "            + ' to learn more about interactive tables.';\n",
              "          element.innerHTML = '';\n",
              "          dataTable['output_type'] = 'display_data';\n",
              "          await google.colab.output.renderOutput(dataTable, element);\n",
              "          const docLink = document.createElement('div');\n",
              "          docLink.innerHTML = docLinkHtml;\n",
              "          element.appendChild(docLink);\n",
              "        }\n",
              "      </script>\n",
              "    </div>\n",
              "  </div>\n",
              "  "
            ]
          },
          "metadata": {},
          "execution_count": 12
        }
      ]
    },
    {
      "cell_type": "code",
      "source": [
        "datos.info()"
      ],
      "metadata": {
        "colab": {
          "base_uri": "https://localhost:8080/"
        },
        "id": "-hgZ6kTu19Pn",
        "outputId": "35bc7711-cc77-4158-f454-c7cdbdd307bc"
      },
      "execution_count": null,
      "outputs": [
        {
          "output_type": "stream",
          "name": "stdout",
          "text": [
            "<class 'pandas.core.frame.DataFrame'>\n",
            "RangeIndex: 143 entries, 0 to 142\n",
            "Data columns (total 16 columns):\n",
            " #   Column                                                                                                                                           Non-Null Count  Dtype  \n",
            "---  ------                                                                                                                                           --------------  -----  \n",
            " 0   Marca temporal                                                                                                                                   143 non-null    object \n",
            " 1   Acepto que mi hijo/hija participe en esta consulta                                                                                               142 non-null    object \n",
            " 2   Sexo                                                                                                                                             143 non-null    object \n",
            " 3   Edad                                                                                                                                             141 non-null    float64\n",
            " 4   Ceducativo                                                                                                                                       143 non-null    object \n",
            " 5   Neducativo                                                                                                                                       137 non-null    object \n",
            " 6   Provincia                                                                                                                                        143 non-null    object \n",
            " 7   1.\t¿Cuántas personas viven en tu casa incluyéndote a vos?                                                                                        143 non-null    object \n",
            " 8   2.\t¿Dispone tu casa de algún espacio donde puedas jugar?                                                                                         143 non-null    object \n",
            " 9   3.\t¿Cuáles han sido tus mayores preocupaciones durante la pandemia del COVID-19?                                                                 141 non-null    object \n",
            " 10  4.\tEn el tiempo que has pasado en tu casa durante la pandemia del COVID-19, ¿qué sentimientos o emociones has sentido?. Menciona tres de ellos   143 non-null    object \n",
            " 11  5.\tDurante la pandemia, ¿en que momentos o situaciones te has sentido muy bien?                                                                  143 non-null    object \n",
            " 12  6.\tDurante esta pandemia, ¿en que momentos o situaciones te has sentido triste o desanimado?                                                     142 non-null    object \n",
            " 13  7.\tMenciona tres actividades que has realizado durante esta pandemia y que te hayan hecho sentirte feliz.                                        140 non-null    object \n",
            " 14  8.\t¿Qué otro tipo de actividades, además de las mencionadas anteriormente, has realizado durante este tiempo en casa?                            140 non-null    object \n",
            " 15  9.\tSi pudieras pedir un deseo en este momento ¿cuál sería?                                                                                       142 non-null    object \n",
            "dtypes: float64(1), object(15)\n",
            "memory usage: 18.0+ KB\n"
          ]
        }
      ]
    },
    {
      "cell_type": "code",
      "source": [
        "#Valores faltantes"
      ],
      "metadata": {
        "id": "PSBSWhig2Kr9"
      },
      "execution_count": null,
      "outputs": []
    },
    {
      "cell_type": "code",
      "source": [
        "datos.isnull().sum()"
      ],
      "metadata": {
        "colab": {
          "base_uri": "https://localhost:8080/"
        },
        "id": "IemvMrKH2M0k",
        "outputId": "0c919112-7096-46dd-e3d1-ac5c73182d73"
      },
      "execution_count": null,
      "outputs": [
        {
          "output_type": "execute_result",
          "data": {
            "text/plain": [
              "Marca temporal                                                                                                                                      0\n",
              "Acepto que mi hijo/hija participe en esta consulta                                                                                                  1\n",
              "Sexo                                                                                                                                                0\n",
              "Edad                                                                                                                                                2\n",
              "Ceducativo                                                                                                                                          0\n",
              "Neducativo                                                                                                                                          6\n",
              "Provincia                                                                                                                                           0\n",
              "1.\\t¿Cuántas personas viven en tu casa incluyéndote a vos?                                                                                          0\n",
              "2.\\t¿Dispone tu casa de algún espacio donde puedas jugar?                                                                                           0\n",
              "3.\\t¿Cuáles han sido tus mayores preocupaciones durante la pandemia del COVID-19?                                                                   2\n",
              "4.\\tEn el tiempo que has pasado en tu casa durante la pandemia del COVID-19, ¿qué sentimientos o emociones has sentido?. Menciona tres de ellos     0\n",
              "5.\\tDurante la pandemia, ¿en que momentos o situaciones te has sentido muy bien?                                                                    0\n",
              "6.\\tDurante esta pandemia, ¿en que momentos o situaciones te has sentido triste o desanimado?                                                       1\n",
              "7.\\tMenciona tres actividades que has realizado durante esta pandemia y que te hayan hecho sentirte feliz.                                          3\n",
              "8.\\t¿Qué otro tipo de actividades, además de las mencionadas anteriormente, has realizado durante este tiempo en casa?                              3\n",
              "9.\\tSi pudieras pedir un deseo en este momento ¿cuál sería?                                                                                         1\n",
              "dtype: int64"
            ]
          },
          "metadata": {},
          "execution_count": 14
        }
      ]
    },
    {
      "cell_type": "code",
      "source": [
        "#Edad"
      ],
      "metadata": {
        "id": "WGOMgzvGSt1i"
      },
      "execution_count": null,
      "outputs": []
    },
    {
      "cell_type": "code",
      "source": [
        "#Imputacion de datos"
      ],
      "metadata": {
        "id": "pNO7lVvyVJf5"
      },
      "execution_count": null,
      "outputs": []
    },
    {
      "cell_type": "code",
      "source": [
        "median = datos[\"Edad\"].median()"
      ],
      "metadata": {
        "id": "gzHKWUP6WDc_"
      },
      "execution_count": null,
      "outputs": []
    },
    {
      "cell_type": "code",
      "source": [
        "datos[\"Edad\"].fillna(median, inplace = True)"
      ],
      "metadata": {
        "id": "YctYE5KFVMu5"
      },
      "execution_count": null,
      "outputs": []
    },
    {
      "cell_type": "code",
      "source": [
        "datos[\"Edad\"].isnull().sum()"
      ],
      "metadata": {
        "colab": {
          "base_uri": "https://localhost:8080/"
        },
        "id": "8VPj5eZkWLOY",
        "outputId": "2631ae10-76de-41fc-aaae-349f350a1256"
      },
      "execution_count": null,
      "outputs": [
        {
          "output_type": "execute_result",
          "data": {
            "text/plain": [
              "0"
            ]
          },
          "metadata": {},
          "execution_count": 17
        }
      ]
    },
    {
      "cell_type": "code",
      "source": [
        "#Análisis exploratorio variable Edad"
      ],
      "metadata": {
        "id": "gCGf-aunWWqq"
      },
      "execution_count": null,
      "outputs": []
    },
    {
      "cell_type": "code",
      "source": [
        "datos[\"Edad\"].mode()"
      ],
      "metadata": {
        "colab": {
          "base_uri": "https://localhost:8080/"
        },
        "id": "xtza9RuwSknm",
        "outputId": "b6053c50-8af1-4c3e-e4a1-23d41db54a7d"
      },
      "execution_count": null,
      "outputs": [
        {
          "output_type": "execute_result",
          "data": {
            "text/plain": [
              "0    10.0\n",
              "dtype: float64"
            ]
          },
          "metadata": {},
          "execution_count": 18
        }
      ]
    },
    {
      "cell_type": "code",
      "source": [
        "datos[\"Edad\"].mean()"
      ],
      "metadata": {
        "colab": {
          "base_uri": "https://localhost:8080/"
        },
        "id": "uVdmR8fbSxKh",
        "outputId": "91c0a560-e740-44d7-b6a9-e55c5c4941aa"
      },
      "execution_count": null,
      "outputs": [
        {
          "output_type": "execute_result",
          "data": {
            "text/plain": [
              "10.636363636363637"
            ]
          },
          "metadata": {},
          "execution_count": 19
        }
      ]
    },
    {
      "cell_type": "code",
      "source": [
        "datos[\"Edad\"].median()"
      ],
      "metadata": {
        "colab": {
          "base_uri": "https://localhost:8080/"
        },
        "id": "REc2mqDIS0sj",
        "outputId": "4bdbbb6f-47e9-4747-c685-93c455d37ed4"
      },
      "execution_count": null,
      "outputs": [
        {
          "output_type": "execute_result",
          "data": {
            "text/plain": [
              "11.0"
            ]
          },
          "metadata": {},
          "execution_count": 20
        }
      ]
    },
    {
      "cell_type": "code",
      "source": [
        "datos[\"Edad\"].std()"
      ],
      "metadata": {
        "colab": {
          "base_uri": "https://localhost:8080/"
        },
        "id": "PUdg-t5qS6Gf",
        "outputId": "7247b65e-a1df-4afc-b2e4-148d9e870b19"
      },
      "execution_count": null,
      "outputs": [
        {
          "output_type": "execute_result",
          "data": {
            "text/plain": [
              "1.2590263091449194"
            ]
          },
          "metadata": {},
          "execution_count": 21
        }
      ]
    },
    {
      "cell_type": "code",
      "source": [
        "datos[\"Edad\"].var()"
      ],
      "metadata": {
        "colab": {
          "base_uri": "https://localhost:8080/"
        },
        "id": "M93uPLibS9TI",
        "outputId": "cdaabae1-7655-4a25-ca00-ba6ac10bcfbf"
      },
      "execution_count": null,
      "outputs": [
        {
          "output_type": "execute_result",
          "data": {
            "text/plain": [
              "1.5851472471190784"
            ]
          },
          "metadata": {},
          "execution_count": 22
        }
      ]
    },
    {
      "cell_type": "code",
      "source": [
        "#Sexo"
      ],
      "metadata": {
        "id": "OJEGH5HXDRrJ"
      },
      "execution_count": null,
      "outputs": []
    },
    {
      "cell_type": "code",
      "source": [
        "datos['Sexo']=datos['Sexo'].replace({'Niño':1,'Niña':0})"
      ],
      "metadata": {
        "id": "WG-w2q7rY9px"
      },
      "execution_count": null,
      "outputs": []
    },
    {
      "cell_type": "code",
      "source": [
        "datos[\"Sexo\"]"
      ],
      "metadata": {
        "colab": {
          "base_uri": "https://localhost:8080/"
        },
        "id": "Nh91ZEWJbzM8",
        "outputId": "1f54a7f7-6bc0-4909-c702-17e1fbcb14b9"
      },
      "execution_count": null,
      "outputs": [
        {
          "output_type": "execute_result",
          "data": {
            "text/plain": [
              "0      1\n",
              "1      0\n",
              "2      0\n",
              "3      0\n",
              "4      0\n",
              "      ..\n",
              "138    0\n",
              "139    1\n",
              "140    1\n",
              "141    0\n",
              "142    1\n",
              "Name: Sexo, Length: 143, dtype: int64"
            ]
          },
          "metadata": {},
          "execution_count": 24
        }
      ]
    },
    {
      "cell_type": "code",
      "source": [
        "datos[\"Sexo\"].mode()"
      ],
      "metadata": {
        "colab": {
          "base_uri": "https://localhost:8080/"
        },
        "id": "WMQrbIVgDUwN",
        "outputId": "0873142c-7715-4347-9495-70639ddb030f"
      },
      "execution_count": null,
      "outputs": [
        {
          "output_type": "execute_result",
          "data": {
            "text/plain": [
              "0    0\n",
              "dtype: int64"
            ]
          },
          "metadata": {},
          "execution_count": 25
        }
      ]
    },
    {
      "cell_type": "code",
      "source": [
        "datos[\"Sexo\"].hist()\n",
        "plt.show()"
      ],
      "metadata": {
        "colab": {
          "base_uri": "https://localhost:8080/",
          "height": 286
        },
        "id": "aU2DngRWHYux",
        "outputId": "b6342b3d-332d-4594-a175-7ad43d93b52e"
      },
      "execution_count": null,
      "outputs": [
        {
          "output_type": "display_data",
          "data": {
            "text/plain": [
              "<Figure size 432x288 with 1 Axes>"
            ],
            "image/png": "[encoded data removed]"
          },
          "metadata": {
            "needs_background": "light"
          }
        }
      ]
    },
    {
      "cell_type": "code",
      "source": [
        "#Centro educativo"
      ],
      "metadata": {
        "id": "nKH5mQtbXBYL"
      },
      "execution_count": null,
      "outputs": []
    },
    {
      "cell_type": "code",
      "source": [
        "datos['Ceducativo']=datos['Ceducativo'].replace({'Público':1,'Privado':0})"
      ],
      "metadata": {
        "id": "jFqpgoDoXEWN"
      },
      "execution_count": null,
      "outputs": []
    },
    {
      "cell_type": "code",
      "source": [
        "datos[\"Ceducativo\"].hist()\n",
        "plt.show()"
      ],
      "metadata": {
        "colab": {
          "base_uri": "https://localhost:8080/",
          "height": 286
        },
        "id": "XXjk8rCJa_us",
        "outputId": "43aa4ca3-d17c-4b61-8976-7b88c9fa125a"
      },
      "execution_count": null,
      "outputs": [
        {
          "output_type": "display_data",
          "data": {
            "text/plain": [
              "<Figure size 432x288 with 1 Axes>"
            ],
            "image/png": "[encoded data removed]"
          },
          "metadata": {
            "needs_background": "light"
          }
        }
      ]
    },
    {
      "cell_type": "code",
      "source": [
        "#Provincia"
      ],
      "metadata": {
        "id": "gnO1TqYIHu44"
      },
      "execution_count": null,
      "outputs": []
    },
    {
      "cell_type": "code",
      "source": [
        "datos['Provincia']=datos['Provincia'].replace({'San José':1,'Alajuela':0, \"Cartago\": 3, \"Heredia\": 4, \"Guanacaste\": 5, \"Puntarenas\": 6, \"Limón\": 7})"
      ],
      "metadata": {
        "id": "rSUM4ovnZz3H"
      },
      "execution_count": null,
      "outputs": []
    },
    {
      "cell_type": "code",
      "source": [
        "datos[\"Provincia\"].mode()"
      ],
      "metadata": {
        "colab": {
          "base_uri": "https://localhost:8080/"
        },
        "id": "bKF5Z8HbKjWW",
        "outputId": "40515f9d-9522-4566-f077-e1d9225e933c"
      },
      "execution_count": null,
      "outputs": [
        {
          "output_type": "execute_result",
          "data": {
            "text/plain": [
              "0    5\n",
              "dtype: int64"
            ]
          },
          "metadata": {},
          "execution_count": 30
        }
      ]
    },
    {
      "cell_type": "code",
      "source": [
        "#Tablas pivote"
      ],
      "metadata": {
        "id": "g-UukV3ZWgkQ"
      },
      "execution_count": null,
      "outputs": []
    },
    {
      "cell_type": "code",
      "source": [
        "datos.pivot_table('Ceducativo', index= 'Sexo', columns= 'Provincia', aggfunc= 'sum')"
      ],
      "metadata": {
        "colab": {
          "base_uri": "https://localhost:8080/",
          "height": 160
        },
        "id": "8yPHQKNJWjKU",
        "outputId": "310bd57d-5c6e-42a1-f1d7-23a3c9aa82dd"
      },
      "execution_count": null,
      "outputs": [
        {
          "output_type": "execute_result",
          "data": {
            "text/plain": [
              "Provincia    0     1    3    4     5    6     7\n",
              "Sexo                                           \n",
              "0          7.0   8.0  3.0  3.0  22.0  1.0  17.0\n",
              "1          5.0  12.0  1.0  4.0  17.0  NaN  22.0"
            ],
            "text/html": [
              "\n",
              "  <div id=\"df-22609584-6062-4b97-a12c-bd7db87735eb\">\n",
              "    <div class=\"colab-df-container\">\n",
              "      <div>\n",
              "<style scoped>\n",
              "    .dataframe tbody tr th:only-of-type {\n",
              "        vertical-align: middle;\n",
              "    }\n",
              "\n",
              "    .dataframe tbody tr th {\n",
              "        vertical-align: top;\n",
              "    }\n",
              "\n",
              "    .dataframe thead th {\n",
              "        text-align: right;\n",
              "    }\n",
              "</style>\n",
              "<table border=\"1\" class=\"dataframe\">\n",
              "  <thead>\n",
              "    <tr style=\"text-align: right;\">\n",
              "      <th>Provincia</th>\n",
              "      <th>0</th>\n",
              "      <th>1</th>\n",
              "      <th>3</th>\n",
              "      <th>4</th>\n",
              "      <th>5</th>\n",
              "      <th>6</th>\n",
              "      <th>7</th>\n",
              "    </tr>\n",
              "    <tr>\n",
              "      <th>Sexo</th>\n",
              "      <th></th>\n",
              "      <th></th>\n",
              "      <th></th>\n",
              "      <th></th>\n",
              "      <th></th>\n",
              "      <th></th>\n",
              "      <th></th>\n",
              "    </tr>\n",
              "  </thead>\n",
              "  <tbody>\n",
              "    <tr>\n",
              "      <th>0</th>\n",
              "      <td>7.0</td>\n",
              "      <td>8.0</td>\n",
              "      <td>3.0</td>\n",
              "      <td>3.0</td>\n",
              "      <td>22.0</td>\n",
              "      <td>1.0</td>\n",
              "      <td>17.0</td>\n",
              "    </tr>\n",
              "    <tr>\n",
              "      <th>1</th>\n",
              "      <td>5.0</td>\n",
              "      <td>12.0</td>\n",
              "      <td>1.0</td>\n",
              "      <td>4.0</td>\n",
              "      <td>17.0</td>\n",
              "      <td>NaN</td>\n",
              "      <td>22.0</td>\n",
              "    </tr>\n",
              "  </tbody>\n",
              "</table>\n",
              "</div>\n",
              "      <button class=\"colab-df-convert\" onclick=\"convertToInteractive('df-22609584-6062-4b97-a12c-bd7db87735eb')\"\n",
              "              title=\"Convert this dataframe to an interactive table.\"\n",
              "              style=\"display:none;\">\n",
              "        \n",
              "  <svg xmlns=\"http://www.w3.org/2000/svg\" height=\"24px\"viewBox=\"0 0 24 24\"\n",
              "       width=\"24px\">\n",
              "    <path d=\"M0 0h24v24H0V0z\" fill=\"none\"/>\n",
              "    <path d=\"M18.56 5.44l.94 2.06.94-2.06 2.06-.94-2.06-.94-.94-2.06-.94 2.06-2.06.94zm-11 1L8.5 8.5l.94-2.06 2.06-.94-2.06-.94L8.5 2.5l-.94 2.06-2.06.94zm10 10l.94 2.06.94-2.06 2.06-.94-2.06-.94-.94-2.06-.94 2.06-2.06.94z\"/><path d=\"M17.41 7.96l-1.37-1.37c-.4-.4-.92-.59-1.43-.59-.52 0-1.04.2-1.43.59L10.3 9.45l-7.72 7.72c-.78.78-.78 2.05 0 2.83L4 21.41c.39.39.9.59 1.41.59.51 0 1.02-.2 1.41-.59l7.78-7.78 2.81-2.81c.8-.78.8-2.07 0-2.86zM5.41 20L4 18.59l7.72-7.72 1.47 1.35L5.41 20z\"/>\n",
              "  </svg>\n",
              "      </button>\n",
              "      \n",
              "  <style>\n",
              "    .colab-df-container {\n",
              "      display:flex;\n",
              "      flex-wrap:wrap;\n",
              "      gap: 12px;\n",
              "    }\n",
              "\n",
              "    .colab-df-convert {\n",
              "      background-color: #E8F0FE;\n",
              "      border: none;\n",
              "      border-radius: 50%;\n",
              "      cursor: pointer;\n",
              "      display: none;\n",
              "      fill: #1967D2;\n",
              "      height: 32px;\n",
              "      padding: 0 0 0 0;\n",
              "      width: 32px;\n",
              "    }\n",
              "\n",
              "    .colab-df-convert:hover {\n",
              "      background-color: #E2EBFA;\n",
              "      box-shadow: 0px 1px 2px rgba(60, 64, 67, 0.3), 0px 1px 3px 1px rgba(60, 64, 67, 0.15);\n",
              "      fill: #174EA6;\n",
              "    }\n",
              "\n",
              "    [theme=dark] .colab-df-convert {\n",
              "      background-color: #3B4455;\n",
              "      fill: #D2E3FC;\n",
              "    }\n",
              "\n",
              "    [theme=dark] .colab-df-convert:hover {\n",
              "      background-color: #434B5C;\n",
              "      box-shadow: 0px 1px 3px 1px rgba(0, 0, 0, 0.15);\n",
              "      filter: drop-shadow(0px 1px 2px rgba(0, 0, 0, 0.3));\n",
              "      fill: #FFFFFF;\n",
              "    }\n",
              "  </style>\n",
              "\n",
              "      <script>\n",
              "        const buttonEl =\n",
              "          document.querySelector('#df-22609584-6062-4b97-a12c-bd7db87735eb button.colab-df-convert');\n",
              "        buttonEl.style.display =\n",
              "          google.colab.kernel.accessAllowed ? 'block' : 'none';\n",
              "\n",
              "        async function convertToInteractive(key) {\n",
              "          const element = document.querySelector('#df-22609584-6062-4b97-a12c-bd7db87735eb');\n",
              "          const dataTable =\n",
              "            await google.colab.kernel.invokeFunction('convertToInteractive',\n",
              "                                                     [key], {});\n",
              "          if (!dataTable) return;\n",
              "\n",
              "          const docLinkHtml = 'Like what you see? Visit the ' +\n",
              "            '<a target=\"_blank\" href=https://colab.research.google.com/notebooks/data_table.ipynb>data table notebook</a>'\n",
              "            + ' to learn more about interactive tables.';\n",
              "          element.innerHTML = '';\n",
              "          dataTable['output_type'] = 'display_data';\n",
              "          await google.colab.output.renderOutput(dataTable, element);\n",
              "          const docLink = document.createElement('div');\n",
              "          docLink.innerHTML = docLinkHtml;\n",
              "          element.appendChild(docLink);\n",
              "        }\n",
              "      </script>\n",
              "    </div>\n",
              "  </div>\n",
              "  "
            ]
          },
          "metadata": {},
          "execution_count": 32
        }
      ]
    }
  ]
}